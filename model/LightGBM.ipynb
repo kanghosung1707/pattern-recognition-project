{
  "nbformat": 4,
  "nbformat_minor": 0,
  "metadata": {
    "colab": {
      "provenance": []
    },
    "kernelspec": {
      "name": "python3",
      "display_name": "Python 3"
    },
    "language_info": {
      "name": "python"
    }
  },
  "cells": [
    {
      "cell_type": "code",
      "source": [
        "import warnings\n",
        "warnings.filterwarnings(\"ignore\", category=FutureWarning) # 경고문 무시\n",
        "\n",
        "import pandas as pd\n",
        "import numpy as np\n",
        "from sklearn.pipeline import Pipeline\n",
        "from sklearn.compose import ColumnTransformer\n",
        "from sklearn.impute import SimpleImputer\n",
        "from sklearn.preprocessing import OneHotEncoder, StandardScaler\n",
        "from sklearn.model_selection import train_test_split, StratifiedKFold, cross_val_score, cross_validate\n",
        "from sklearn.metrics import accuracy_score, f1_score, roc_auc_score\n",
        "\n",
        "from lightgbm import LGBMClassifier"
      ],
      "metadata": {
        "id": "OQ6rixkbvjlI"
      },
      "execution_count": 1,
      "outputs": []
    },
    {
      "cell_type": "code",
      "source": [
        "# 데이터 불러오기\n",
        "from google.colab import drive\n",
        "drive.mount('/content/drive')\n",
        "train_src = '/content/drive/MyDrive/Colab Notebooks/패턴인식/train.csv'\n",
        "\n",
        "df = pd.read_csv(train_src)\n",
        "\n",
        "X = df.drop(['id', 'shares', 'y'], axis=1)\n",
        "y = df['y']\n",
        "\n",
        "X_trainval, X_test, y_trainval, y_test = train_test_split(X, y, test_size=0.2, random_state=42, stratify=y)"
      ],
      "metadata": {
        "colab": {
          "base_uri": "https://localhost:8080/"
        },
        "id": "4NK5sHaNvyVp",
        "outputId": "6b9b29fc-99f1-453b-9f39-365e90684c3e"
      },
      "execution_count": 3,
      "outputs": [
        {
          "output_type": "stream",
          "name": "stdout",
          "text": [
            "Mounted at /content/drive\n"
          ]
        }
      ]
    },
    {
      "cell_type": "code",
      "source": [
        "num_cols = X.select_dtypes(include=['int64', 'float64']).columns.tolist()\n",
        "cat_cols = ['data_channel', 'weekday']\n",
        "\n",
        "# 전처리 파이프라인\n",
        "numeric_pipe = Pipeline([\n",
        "    ('imputer', SimpleImputer(strategy='mean')),\n",
        "    ('scaler', StandardScaler())\n",
        "])\n",
        "categorical_pipe = Pipeline([\n",
        "    ('imputer', SimpleImputer(strategy='most_frequent')),\n",
        "    ('ohe', OneHotEncoder(drop='first', sparse_output=False))\n",
        "])\n",
        "preprocessor = ColumnTransformer([\n",
        "    ('num', numeric_pipe, num_cols),\n",
        "    ('cat', categorical_pipe, cat_cols)\n",
        "])"
      ],
      "metadata": {
        "id": "ZUlr43O04kKZ"
      },
      "execution_count": 4,
      "outputs": []
    },
    {
      "cell_type": "code",
      "source": [
        "# 모델 정의 <- 모델 테스트할 때 여기만 수정하시면 됩니다\n",
        "pipe = Pipeline([\n",
        "    ('pre', preprocessor),\n",
        "    ('clf', LGBMClassifier(random_state=42, verbose=-1))\n",
        "])"
      ],
      "metadata": {
        "id": "244ogFkt41m7"
      },
      "execution_count": 5,
      "outputs": []
    },
    {
      "cell_type": "code",
      "source": [
        "# 5-Fold CV (only on train_val)\n",
        "cv = StratifiedKFold(n_splits=5, shuffle=True, random_state=42)\n",
        "scoring = ['accuracy', 'f1', 'roc_auc']\n",
        "\n",
        "cv_results = cross_validate(pipe, X_trainval, y_trainval, cv=cv, scoring=scoring)\n",
        "\n",
        "acc = cv_results['test_accuracy']\n",
        "f1 = cv_results['test_f1']\n",
        "auc = cv_results['test_roc_auc']\n",
        "comp = (acc + f1 + auc) / 3\n",
        "\n",
        "print(\"5-Fold CV (only on train_val)\")\n",
        "for i in range(len(acc)):\n",
        "    print(f\"[Fold {i+1}] Accuracy: {acc[i]:.4f}, F1: {f1[i]:.4f}, AUC: {auc[i]:.4f}, Composite: {comp[i]:.4f}\")\n",
        "print(\"\\n평균 Composite Score:\", comp.mean())\n",
        "\n",
        "# 전체 train_val로 학습 후 test로 최종 성능 평가\n",
        "pipe.fit(X_trainval, y_trainval)\n",
        "y_pred = pipe.predict(X_test)\n",
        "y_prob = pipe.predict_proba(X_test)[:, 1]\n",
        "\n",
        "acc = accuracy_score(y_test, y_pred)\n",
        "f1 = f1_score(y_test, y_pred)\n",
        "auc = roc_auc_score(y_test, y_prob)\n",
        "comp = (acc + f1 + auc) / 3\n",
        "\n",
        "print(\"\\n최종 Holdout Test 성능\")\n",
        "print(f\"Accuracy : {acc:.4f}\")\n",
        "print(f\"F1 Score : {f1:.4f}\")\n",
        "print(f\"ROC AUC  : {auc:.4f}\")\n",
        "print(f\"Composite: {comp:.4f}\")"
      ],
      "metadata": {
        "colab": {
          "base_uri": "https://localhost:8080/"
        },
        "id": "_OtYZTeC47-C",
        "outputId": "4440a009-7c76-484a-8218-011e6931b827"
      },
      "execution_count": 6,
      "outputs": [
        {
          "output_type": "stream",
          "name": "stdout",
          "text": [
            "5-Fold CV (only on train_val)\n",
            "[Fold 1] Accuracy: 0.6562, F1: 0.6494, AUC: 0.7139, Composite: 0.6732\n",
            "[Fold 2] Accuracy: 0.6484, F1: 0.6447, AUC: 0.7059, Composite: 0.6663\n",
            "[Fold 3] Accuracy: 0.6458, F1: 0.6408, AUC: 0.7046, Composite: 0.6638\n",
            "[Fold 4] Accuracy: 0.6624, F1: 0.6606, AUC: 0.7139, Composite: 0.6790\n",
            "[Fold 5] Accuracy: 0.6422, F1: 0.6411, AUC: 0.6990, Composite: 0.6608\n",
            "\n",
            "평균 Composite Score: 0.6686024719734138\n",
            "\n",
            "최종 Holdout Test 성능\n",
            "Accuracy : 0.6588\n",
            "F1 Score : 0.6539\n",
            "ROC AUC  : 0.7206\n",
            "Composite: 0.6778\n"
          ]
        }
      ]
    }
  ]
}