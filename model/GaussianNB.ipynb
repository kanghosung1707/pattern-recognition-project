{
  "nbformat": 4,
  "nbformat_minor": 0,
  "metadata": {
    "colab": {
      "provenance": []
    },
    "kernelspec": {
      "name": "python3",
      "display_name": "Python 3"
    },
    "language_info": {
      "name": "python"
    }
  },
  "cells": [
    {
      "cell_type": "code",
      "execution_count": 1,
      "metadata": {
        "colab": {
          "base_uri": "https://localhost:8080/"
        },
        "id": "_vikoWxE93iK",
        "outputId": "f1adfaad-9fb9-4293-c0f4-c25641911065"
      },
      "outputs": [
        {
          "output_type": "stream",
          "name": "stdout",
          "text": [
            "Mounted at /content/drive\n"
          ]
        }
      ],
      "source": [
        "# 라이브러리 임포트\n",
        "import pandas as pd\n",
        "import numpy as np\n",
        "from sklearn.pipeline import Pipeline\n",
        "from sklearn.compose import ColumnTransformer\n",
        "from sklearn.impute import SimpleImputer\n",
        "from sklearn.preprocessing import OneHotEncoder, StandardScaler\n",
        "from sklearn.naive_bayes import GaussianNB\n",
        "from sklearn.model_selection import StratifiedKFold, cross_validate, train_test_split\n",
        "from sklearn.metrics import accuracy_score, f1_score, roc_auc_score\n",
        "\n",
        "# Google Drive 연동\n",
        "from google.colab import drive\n",
        "drive.mount('/content/drive')\n",
        "\n",
        "# 데이터 로드\n",
        "train_src = '/content/drive/MyDrive/Colab Notebooks/패턴인식/train.csv'\n",
        "train_df = pd.read_csv(train_src)\n",
        "X = train_df.drop(['id', 'shares', 'y'], axis=1)\n",
        "y = train_df['y']"
      ]
    },
    {
      "cell_type": "code",
      "source": [
        "# 수치형/범주형 컬럼 정의\n",
        "num_cols = X.select_dtypes(include=['int64','float64']).columns.tolist()\n",
        "cat_cols = ['data_channel', 'weekday']\n",
        "\n",
        "# 수치형 결측치 → 평균 대체\n",
        "numeric_pipe = Pipeline([\n",
        "    ('imputer', SimpleImputer(strategy='mean')),\n",
        "    ('scaler',  StandardScaler())\n",
        "])\n",
        "\n",
        "# 범주형 결측치 → 최빈값 대체\n",
        "categorical_pipe = Pipeline([\n",
        "    ('imputer', SimpleImputer(strategy='most_frequent')),\n",
        "    ('ohe',     OneHotEncoder(drop='first', sparse_output=False))\n",
        "])\n",
        "\n",
        "# 전처리된 데이터 합치기\n",
        "preprocessor = ColumnTransformer([\n",
        "    ('num', numeric_pipe, num_cols),\n",
        "    ('cat', categorical_pipe, cat_cols),\n",
        "])"
      ],
      "metadata": {
        "id": "5eK5b_NK9-Vg"
      },
      "execution_count": 2,
      "outputs": []
    },
    {
      "cell_type": "code",
      "source": [
        "# GaussianNB\n",
        "pipe = Pipeline([\n",
        "    ('pre', preprocessor),\n",
        "    ('clf', GaussianNB())\n",
        "])"
      ],
      "metadata": {
        "id": "z9xW2V6d-Ax9"
      },
      "execution_count": 3,
      "outputs": []
    },
    {
      "cell_type": "code",
      "source": [
        "# CV 세팅 및 평가 지표 계산\n",
        "cv = StratifiedKFold(n_splits=5, shuffle=True, random_state=42)\n",
        "scoring = ['accuracy','f1','roc_auc']\n",
        "\n",
        "cv_results = cross_validate(\n",
        "    pipe, X, y,\n",
        "    cv=cv,\n",
        "    scoring=scoring,\n",
        "    return_train_score=False\n",
        ")\n",
        "\n",
        "acc = cv_results['test_accuracy']\n",
        "f1  = cv_results['test_f1']\n",
        "auc = cv_results['test_roc_auc']\n",
        "comp = (acc + f1 + auc) / 3\n",
        "\n",
        "print(\"Fold별 Accuracy  :\", np.round(acc,4))\n",
        "print(\"Fold별 F1 Score  :\", np.round(f1,4))\n",
        "print(\"Fold별 ROC AUC   :\", np.round(auc,4))\n",
        "print(\"Fold별 Composite :\", np.round(comp,4), \"\\n\")\n",
        "\n",
        "print(\"Stratified k-fold cross-validation\")\n",
        "print(f\"평균 Accuracy  : {acc.mean():.4f}\")\n",
        "print(f\"평균 F1 Score  : {f1.mean():.4f}\")\n",
        "print(f\"평균 ROC AUC   : {auc.mean():.4f}\")\n",
        "print(f\"평균 Composite : {comp.mean():.4f}\")\n",
        "\n",
        "# 홀드아웃 교차검증 및 평가 지표 계산\n",
        "X_tr, X_te, y_tr, y_te = train_test_split(X, y, test_size=0.2, random_state=42, stratify=y)\n",
        "pipe.fit(X_tr, y_tr)\n",
        "\n",
        "y_pred = pipe.predict(X_te)\n",
        "y_prob = pipe.predict_proba(X_te)[:,1]  # 양성 클래스 확률\n",
        "\n",
        "acc = accuracy_score(y_te, y_pred)\n",
        "f1  = f1_score(y_te, y_pred)\n",
        "auc = roc_auc_score(y_te, y_prob)\n",
        "comp = (acc + f1 + auc) / 3\n",
        "\n",
        "print(\"\\nHoldout cross-validation\")\n",
        "print(f\"Accuracy : {acc:.4f}\")\n",
        "print(f\"F1 Score : {f1:.4f}\")\n",
        "print(f\"ROC AUC  : {auc:.4f}\")\n",
        "print(f\"Composite: {comp:.4f}\")"
      ],
      "metadata": {
        "colab": {
          "base_uri": "https://localhost:8080/"
        },
        "id": "miBLt2S8-Gpx",
        "outputId": "fc7b1c7c-1d6e-4ce5-ba35-a94fa1596918"
      },
      "execution_count": 4,
      "outputs": [
        {
          "output_type": "stream",
          "name": "stdout",
          "text": [
            "Fold별 Accuracy  : [0.5829 0.6018 0.5856 0.6137 0.5905]\n",
            "Fold별 F1 Score  : [0.4644 0.4857 0.4598 0.5179 0.4687]\n",
            "Fold별 ROC AUC   : [0.6515 0.6714 0.6457 0.6691 0.6601]\n",
            "Fold별 Composite : [0.5663 0.5863 0.5637 0.6002 0.5731] \n",
            "\n",
            "Stratified k-fold cross-validation\n",
            "평균 Accuracy  : 0.5949\n",
            "평균 F1 Score  : 0.4793\n",
            "평균 ROC AUC   : 0.6596\n",
            "평균 Composite : 0.5779\n",
            "\n",
            "Holdout cross-validation\n",
            "Accuracy : 0.6036\n",
            "F1 Score : 0.4977\n",
            "ROC AUC  : 0.6656\n",
            "Composite: 0.5890\n"
          ]
        }
      ]
    }
  ]
}